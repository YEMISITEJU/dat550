{
 "cells": [
  {
   "cell_type": "code",
   "execution_count": 1,
   "outputs": [],
   "source": [
    "import pandas as pd\n",
    "import json\n",
    "import cv2\n",
    "import numpy as np\n",
    "from tqdm import tqdm"
   ],
   "metadata": {
    "collapsed": false,
    "pycharm": {
     "name": "#%%\n"
    }
   }
  },
  {
   "cell_type": "code",
   "execution_count": 2,
   "metadata": {
    "collapsed": true
   },
   "outputs": [],
   "source": [
    "# Load dataset from train sample videos json file\n",
    "def load_json_into_df(file:str):\n",
    "    files = []\n",
    "    file_path = f\"../../train_sample_videos/{file}\"\n",
    "    with open(file_path) as f:\n",
    "        data = json.load(f)\n",
    "        for x in data:\n",
    "            files.append({\n",
    "                \"name\":x,\n",
    "                \"label\":data[x][\"label\"],\n",
    "                \"split\":data[x][\"split\"],\n",
    "                \"original\":data[x][\"original\"]\n",
    "            })\n",
    "    return pd.DataFrame(files)"
   ]
  },
  {
   "cell_type": "code",
   "execution_count": 3,
   "outputs": [],
   "source": [
    "df = load_json_into_df(\"metadata.json\")"
   ],
   "metadata": {
    "collapsed": false,
    "pycharm": {
     "name": "#%%\n"
    }
   }
  },
  {
   "cell_type": "code",
   "execution_count": 4,
   "outputs": [
    {
     "data": {
      "text/plain": "             name label  split        original\n0  aagfhgtpmv.mp4  FAKE  train  vudstovrck.mp4\n1  aapnvogymq.mp4  FAKE  train  jdubbvfswz.mp4\n2  abarnvbtwb.mp4  REAL  train            None\n3  abofeumbvv.mp4  FAKE  train  atvmxvwyns.mp4\n4  abqwwspghj.mp4  FAKE  train  qzimuostzz.mp4",
      "text/html": "<div>\n<style scoped>\n    .dataframe tbody tr th:only-of-type {\n        vertical-align: middle;\n    }\n\n    .dataframe tbody tr th {\n        vertical-align: top;\n    }\n\n    .dataframe thead th {\n        text-align: right;\n    }\n</style>\n<table border=\"1\" class=\"dataframe\">\n  <thead>\n    <tr style=\"text-align: right;\">\n      <th></th>\n      <th>name</th>\n      <th>label</th>\n      <th>split</th>\n      <th>original</th>\n    </tr>\n  </thead>\n  <tbody>\n    <tr>\n      <th>0</th>\n      <td>aagfhgtpmv.mp4</td>\n      <td>FAKE</td>\n      <td>train</td>\n      <td>vudstovrck.mp4</td>\n    </tr>\n    <tr>\n      <th>1</th>\n      <td>aapnvogymq.mp4</td>\n      <td>FAKE</td>\n      <td>train</td>\n      <td>jdubbvfswz.mp4</td>\n    </tr>\n    <tr>\n      <th>2</th>\n      <td>abarnvbtwb.mp4</td>\n      <td>REAL</td>\n      <td>train</td>\n      <td>None</td>\n    </tr>\n    <tr>\n      <th>3</th>\n      <td>abofeumbvv.mp4</td>\n      <td>FAKE</td>\n      <td>train</td>\n      <td>atvmxvwyns.mp4</td>\n    </tr>\n    <tr>\n      <th>4</th>\n      <td>abqwwspghj.mp4</td>\n      <td>FAKE</td>\n      <td>train</td>\n      <td>qzimuostzz.mp4</td>\n    </tr>\n  </tbody>\n</table>\n</div>"
     },
     "execution_count": 4,
     "metadata": {},
     "output_type": "execute_result"
    }
   ],
   "source": [
    "df.head()"
   ],
   "metadata": {
    "collapsed": false,
    "pycharm": {
     "name": "#%%\n"
    }
   }
  },
  {
   "cell_type": "code",
   "execution_count": 5,
   "outputs": [],
   "source": [
    "def extract_frames(video_path:str, num_frames:int=10):\n",
    "    # Open the video file\n",
    "    cap = cv2.VideoCapture(video_path)\n",
    "    # Get the total number of frames\n",
    "    total_frames = int(cap.get(cv2.CAP_PROP_FRAME_COUNT))\n",
    "\n",
    "    # Determine no of frames to extract\n",
    "    # num_frames = total_frames if num_frames > total_frames else num_frames\n",
    "\n",
    "\n",
    "    # Compute the frame indices to extract\n",
    "    frame_indices = np.linspace(0, total_frames - 1, num=num_frames, dtype=int)\n",
    "\n",
    "\n",
    "    # Initialize an empty list to store the frames\n",
    "    frames = []\n",
    "\n",
    "\n",
    "    # Loop through the selected frame indices and extract the frames\n",
    "    for index in frame_indices:\n",
    "        # Set the frame index\n",
    "        cap.set(cv2.CAP_PROP_POS_FRAMES, index)\n",
    "\n",
    "        # Read the frame from the video file\n",
    "        ret, frame = cap.read()\n",
    "\n",
    "        # Convert the frame to RGB\n",
    "        frame = cv2.cvtColor(frame, cv2.COLOR_BGR2RGB)\n",
    "\n",
    "        # Add the frame to the list\n",
    "        frames.append(frame)\n",
    "\n",
    "\n",
    "    # Release the video file\n",
    "    cap.release()\n",
    "\n",
    "\n",
    "    # Return the list of frames as a NumPy array\n",
    "    return np.array(frames)"
   ],
   "metadata": {
    "collapsed": false,
    "pycharm": {
     "name": "#%%\n"
    }
   }
  },
  {
   "cell_type": "code",
   "execution_count": 6,
   "outputs": [],
   "source": [
    "def extract_faces(frame):\n",
    "    face_cascade = cv2.CascadeClassifier('../../models/haarcascade_frontalface_default.xml')\n",
    "    faces = face_cascade.detectMultiScale(\n",
    "        frame,\n",
    "        scaleFactor= 1.1,\n",
    "        minNeighbors= 20,\n",
    "        minSize=(10, 10)\n",
    "    )\n",
    "    faces_detected = format(len(faces)) + \" faces detected!\"\n",
    "    if len(faces_detected) == 0:\n",
    "        return\n",
    "    # Draw a rectangle around the faces\n",
    "    faces_frames = []\n",
    "    for (x,y,w,h) in faces:\n",
    "        face = frame[y:y+h, x:x+w]\n",
    "        faces_frames.append(face)\n",
    "    return faces_frames"
   ],
   "metadata": {
    "collapsed": false,
    "pycharm": {
     "name": "#%%\n"
    }
   }
  },
  {
   "cell_type": "code",
   "execution_count": 7,
   "outputs": [],
   "source": [
    "def extract_frames_faces(df:pd.DataFrame):\n",
    "    train_df_rows = []\n",
    "    for index, row in tqdm(df.iterrows()):\n",
    "        video_path = f\"../../train_sample_videos/{row['name']}\"\n",
    "        frames =extract_frames(video_path)\n",
    "        for frame in frames:\n",
    "            faces = extract_faces(frame)\n",
    "            for face in faces:\n",
    "                train_df_rows.append({\n",
    "                    \"video_name\":row[\"name\"],\n",
    "                    \"label\":row[\"label\"],\n",
    "                    \"split\":row[\"split\"],\n",
    "                    \"original\":row[\"original\"],\n",
    "                    \"raw_face\":face\n",
    "                })\n",
    "\n",
    "    return pd.DataFrame(train_df_rows)"
   ],
   "metadata": {
    "collapsed": false,
    "pycharm": {
     "name": "#%%\n"
    }
   }
  },
  {
   "cell_type": "code",
   "execution_count": 8,
   "outputs": [
    {
     "name": "stderr",
     "output_type": "stream",
     "text": [
      "400it [20:24,  3.06s/it]\n"
     ]
    }
   ],
   "source": [
    "train_df = extract_frames_faces(df)"
   ],
   "metadata": {
    "collapsed": false,
    "pycharm": {
     "name": "#%%\n"
    }
   }
  },
  {
   "cell_type": "code",
   "execution_count": 9,
   "outputs": [
    {
     "data": {
      "text/plain": "       video_name label  split        original  \\\n0  aagfhgtpmv.mp4  FAKE  train  vudstovrck.mp4   \n1  aagfhgtpmv.mp4  FAKE  train  vudstovrck.mp4   \n2  aagfhgtpmv.mp4  FAKE  train  vudstovrck.mp4   \n3  aagfhgtpmv.mp4  FAKE  train  vudstovrck.mp4   \n4  aagfhgtpmv.mp4  FAKE  train  vudstovrck.mp4   \n\n                                            raw_face  \n0  [[[117, 109, 91], [123, 115, 97], [112, 104, 8...  \n1  [[[140, 165, 120], [136, 155, 112], [130, 150,...  \n2  [[[136, 172, 96], [117, 153, 77], [120, 153, 8...  \n3  [[[116, 154, 88], [116, 154, 90], [117, 155, 9...  \n4  [[[198, 224, 252], [198, 224, 250], [196, 222,...  ",
      "text/html": "<div>\n<style scoped>\n    .dataframe tbody tr th:only-of-type {\n        vertical-align: middle;\n    }\n\n    .dataframe tbody tr th {\n        vertical-align: top;\n    }\n\n    .dataframe thead th {\n        text-align: right;\n    }\n</style>\n<table border=\"1\" class=\"dataframe\">\n  <thead>\n    <tr style=\"text-align: right;\">\n      <th></th>\n      <th>video_name</th>\n      <th>label</th>\n      <th>split</th>\n      <th>original</th>\n      <th>raw_face</th>\n    </tr>\n  </thead>\n  <tbody>\n    <tr>\n      <th>0</th>\n      <td>aagfhgtpmv.mp4</td>\n      <td>FAKE</td>\n      <td>train</td>\n      <td>vudstovrck.mp4</td>\n      <td>[[[117, 109, 91], [123, 115, 97], [112, 104, 8...</td>\n    </tr>\n    <tr>\n      <th>1</th>\n      <td>aagfhgtpmv.mp4</td>\n      <td>FAKE</td>\n      <td>train</td>\n      <td>vudstovrck.mp4</td>\n      <td>[[[140, 165, 120], [136, 155, 112], [130, 150,...</td>\n    </tr>\n    <tr>\n      <th>2</th>\n      <td>aagfhgtpmv.mp4</td>\n      <td>FAKE</td>\n      <td>train</td>\n      <td>vudstovrck.mp4</td>\n      <td>[[[136, 172, 96], [117, 153, 77], [120, 153, 8...</td>\n    </tr>\n    <tr>\n      <th>3</th>\n      <td>aagfhgtpmv.mp4</td>\n      <td>FAKE</td>\n      <td>train</td>\n      <td>vudstovrck.mp4</td>\n      <td>[[[116, 154, 88], [116, 154, 90], [117, 155, 9...</td>\n    </tr>\n    <tr>\n      <th>4</th>\n      <td>aagfhgtpmv.mp4</td>\n      <td>FAKE</td>\n      <td>train</td>\n      <td>vudstovrck.mp4</td>\n      <td>[[[198, 224, 252], [198, 224, 250], [196, 222,...</td>\n    </tr>\n  </tbody>\n</table>\n</div>"
     },
     "execution_count": 9,
     "metadata": {},
     "output_type": "execute_result"
    }
   ],
   "source": [
    "train_df.head()"
   ],
   "metadata": {
    "collapsed": false,
    "pycharm": {
     "name": "#%%\n"
    }
   }
  },
  {
   "cell_type": "code",
   "execution_count": 12,
   "outputs": [],
   "source": [
    "train_df.to_pickle('../../preprocessing/train.pkl')"
   ],
   "metadata": {
    "collapsed": false,
    "pycharm": {
     "name": "#%%\n"
    }
   }
  },
  {
   "cell_type": "code",
   "execution_count": 11,
   "outputs": [],
   "source": [
    "# cv2.imshow(\"image\", train_df.iloc[0][\"raw_face\"])\n",
    "# cv2.waitKey(0)\n",
    "#\n",
    "# # closing all open windows\n",
    "# cv2.destroyAllWindows()"
   ],
   "metadata": {
    "collapsed": false,
    "pycharm": {
     "name": "#%%\n"
    }
   }
  },
  {
   "cell_type": "code",
   "execution_count": 13,
   "outputs": [
    {
     "data": {
      "text/plain": "       video_name label  split        original  \\\n0  aagfhgtpmv.mp4  FAKE  train  vudstovrck.mp4   \n1  aagfhgtpmv.mp4  FAKE  train  vudstovrck.mp4   \n2  aagfhgtpmv.mp4  FAKE  train  vudstovrck.mp4   \n3  aagfhgtpmv.mp4  FAKE  train  vudstovrck.mp4   \n4  aagfhgtpmv.mp4  FAKE  train  vudstovrck.mp4   \n\n                                            raw_face  \n0  [[[117, 109, 91], [123, 115, 97], [112, 104, 8...  \n1  [[[140, 165, 120], [136, 155, 112], [130, 150,...  \n2  [[[136, 172, 96], [117, 153, 77], [120, 153, 8...  \n3  [[[116, 154, 88], [116, 154, 90], [117, 155, 9...  \n4  [[[198, 224, 252], [198, 224, 250], [196, 222,...  ",
      "text/html": "<div>\n<style scoped>\n    .dataframe tbody tr th:only-of-type {\n        vertical-align: middle;\n    }\n\n    .dataframe tbody tr th {\n        vertical-align: top;\n    }\n\n    .dataframe thead th {\n        text-align: right;\n    }\n</style>\n<table border=\"1\" class=\"dataframe\">\n  <thead>\n    <tr style=\"text-align: right;\">\n      <th></th>\n      <th>video_name</th>\n      <th>label</th>\n      <th>split</th>\n      <th>original</th>\n      <th>raw_face</th>\n    </tr>\n  </thead>\n  <tbody>\n    <tr>\n      <th>0</th>\n      <td>aagfhgtpmv.mp4</td>\n      <td>FAKE</td>\n      <td>train</td>\n      <td>vudstovrck.mp4</td>\n      <td>[[[117, 109, 91], [123, 115, 97], [112, 104, 8...</td>\n    </tr>\n    <tr>\n      <th>1</th>\n      <td>aagfhgtpmv.mp4</td>\n      <td>FAKE</td>\n      <td>train</td>\n      <td>vudstovrck.mp4</td>\n      <td>[[[140, 165, 120], [136, 155, 112], [130, 150,...</td>\n    </tr>\n    <tr>\n      <th>2</th>\n      <td>aagfhgtpmv.mp4</td>\n      <td>FAKE</td>\n      <td>train</td>\n      <td>vudstovrck.mp4</td>\n      <td>[[[136, 172, 96], [117, 153, 77], [120, 153, 8...</td>\n    </tr>\n    <tr>\n      <th>3</th>\n      <td>aagfhgtpmv.mp4</td>\n      <td>FAKE</td>\n      <td>train</td>\n      <td>vudstovrck.mp4</td>\n      <td>[[[116, 154, 88], [116, 154, 90], [117, 155, 9...</td>\n    </tr>\n    <tr>\n      <th>4</th>\n      <td>aagfhgtpmv.mp4</td>\n      <td>FAKE</td>\n      <td>train</td>\n      <td>vudstovrck.mp4</td>\n      <td>[[[198, 224, 252], [198, 224, 250], [196, 222,...</td>\n    </tr>\n  </tbody>\n</table>\n</div>"
     },
     "execution_count": 13,
     "metadata": {},
     "output_type": "execute_result"
    }
   ],
   "source": [
    "train_df.head()"
   ],
   "metadata": {
    "collapsed": false,
    "pycharm": {
     "name": "#%%\n"
    }
   }
  },
  {
   "cell_type": "code",
   "execution_count": null,
   "outputs": [],
   "source": [],
   "metadata": {
    "collapsed": false,
    "pycharm": {
     "name": "#%%\n"
    }
   }
  }
 ],
 "metadata": {
  "kernelspec": {
   "display_name": "Python 3",
   "language": "python",
   "name": "python3"
  },
  "language_info": {
   "codemirror_mode": {
    "name": "ipython",
    "version": 2
   },
   "file_extension": ".py",
   "mimetype": "text/x-python",
   "name": "python",
   "nbconvert_exporter": "python",
   "pygments_lexer": "ipython2",
   "version": "2.7.6"
  }
 },
 "nbformat": 4,
 "nbformat_minor": 0
}